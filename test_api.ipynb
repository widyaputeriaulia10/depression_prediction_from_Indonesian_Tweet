{
 "cells": [
  {
   "cell_type": "code",
   "execution_count": 12,
   "id": "geographic-bottom",
   "metadata": {
    "ExecuteTime": {
     "end_time": "2023-01-10T09:41:00.848885Z",
     "start_time": "2023-01-10T09:41:00.434916Z"
    }
   },
   "outputs": [
    {
     "name": "stdout",
     "output_type": "stream",
     "text": [
      "{'user_id': '001', 'text': ['aku sudah lelah dengan hidup ini kalau tau begini lebih baik mati saja', 'kalau memang ini keinginan kalian semua, aku lebih memilih mati, dan bunuh diri'], 'prediction each sentence': [1, 1], 'prediction for user 001': 'depression'}\n"
     ]
    }
   ],
   "source": [
    "import requests\n",
    "\n",
    "query = {\n",
    "    \"user_id\" : '001',\n",
    "    \"text\" : ['aku sudah lelah dengan hidup ini kalau tau begini lebih baik mati saja', 'kalau memang ini keinginan kalian semua, aku lebih memilih mati, dan bunuh diri']\n",
    "}\n",
    "res_1 = requests.post('http://127.0.0.1:8000/predict_depression', json = query)\n",
    "data = res_1.json()\n",
    "\n",
    "print(data)"
   ]
  },
  {
   "cell_type": "code",
   "execution_count": null,
   "id": "disciplinary-concord",
   "metadata": {},
   "outputs": [],
   "source": []
  }
 ],
 "metadata": {
  "kernelspec": {
   "display_name": "uli-env",
   "language": "python",
   "name": "uli-env"
  },
  "language_info": {
   "codemirror_mode": {
    "name": "ipython",
    "version": 3
   },
   "file_extension": ".py",
   "mimetype": "text/x-python",
   "name": "python",
   "nbconvert_exporter": "python",
   "pygments_lexer": "ipython3",
   "version": "3.6.3"
  },
  "varInspector": {
   "cols": {
    "lenName": 16,
    "lenType": 16,
    "lenVar": 40
   },
   "kernels_config": {
    "python": {
     "delete_cmd_postfix": "",
     "delete_cmd_prefix": "del ",
     "library": "var_list.py",
     "varRefreshCmd": "print(var_dic_list())"
    },
    "r": {
     "delete_cmd_postfix": ") ",
     "delete_cmd_prefix": "rm(",
     "library": "var_list.r",
     "varRefreshCmd": "cat(var_dic_list()) "
    }
   },
   "types_to_exclude": [
    "module",
    "function",
    "builtin_function_or_method",
    "instance",
    "_Feature"
   ],
   "window_display": false
  }
 },
 "nbformat": 4,
 "nbformat_minor": 5
}
